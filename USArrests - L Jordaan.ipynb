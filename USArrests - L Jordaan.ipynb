{
 "cells": [
  {
   "cell_type": "markdown",
   "id": "c882ae93-8d8e-4b7f-bcbc-69710bdf0e0f",
   "metadata": {},
   "source": [
    "## PCA - USArrests data set analysis "
   ]
  },
  {
   "cell_type": "markdown",
   "id": "60ad20e7-cfd6-4065-8669-0af7eb46cfc4",
   "metadata": {},
   "source": [
    "### L Jordaan"
   ]
  },
  {
   "cell_type": "code",
   "execution_count": 1,
   "id": "0026a4a9-1fa8-40e5-b719-9042be5f7d75",
   "metadata": {
    "colab": {
     "base_uri": "https://localhost:8080/",
     "height": 414
    },
    "colab_type": "code",
    "executionInfo": {
     "elapsed": 654,
     "status": "ok",
     "timestamp": 1564853218357,
     "user": {
      "displayName": "Esther van den Berg",
      "photoUrl": "",
      "userId": "04126586416623518388"
     },
     "user_tz": -120
    },
    "id": "UxKmqYZ98W-o",
    "outputId": "77fb1747-f900-4bc3-de31-a8d4e51fe634"
   },
   "outputs": [],
   "source": [
    "import numpy as np\n",
    "import pandas as pd\n",
    "\n",
    "import seaborn as sns\n",
    "import matplotlib.pyplot as plt\n",
    "import missingno as msno\n",
    "\n",
    "from sklearn.preprocessing import StandardScaler\n",
    "from sklearn.decomposition import PCA\n",
    "from sklearn.model_selection import train_test_split\n",
    "from sklearn.neighbors import KNeighborsClassifier\n",
    "import seaborn as sns\n",
    "sns.set()\n",
    "%matplotlib inline\n"
   ]
  },
  {
   "cell_type": "code",
   "execution_count": 2,
   "id": "2ae32cda-9f50-4171-8a5f-38ca45b33913",
   "metadata": {
    "colab": {
     "base_uri": "https://localhost:8080/",
     "height": 414
    },
    "colab_type": "code",
    "executionInfo": {
     "elapsed": 654,
     "status": "ok",
     "timestamp": 1564853218357,
     "user": {
      "displayName": "Esther van den Berg",
      "photoUrl": "",
      "userId": "04126586416623518388"
     },
     "user_tz": -120
    },
    "id": "UxKmqYZ98W-o",
    "outputId": "77fb1747-f900-4bc3-de31-a8d4e51fe634"
   },
   "outputs": [
    {
     "data": {
      "text/html": [
       "<div>\n",
       "<style scoped>\n",
       "    .dataframe tbody tr th:only-of-type {\n",
       "        vertical-align: middle;\n",
       "    }\n",
       "\n",
       "    .dataframe tbody tr th {\n",
       "        vertical-align: top;\n",
       "    }\n",
       "\n",
       "    .dataframe thead th {\n",
       "        text-align: right;\n",
       "    }\n",
       "</style>\n",
       "<table border=\"1\" class=\"dataframe\">\n",
       "  <thead>\n",
       "    <tr style=\"text-align: right;\">\n",
       "      <th></th>\n",
       "      <th>Murder</th>\n",
       "      <th>Assault</th>\n",
       "      <th>UrbanPop</th>\n",
       "      <th>Rape</th>\n",
       "    </tr>\n",
       "  </thead>\n",
       "  <tbody>\n",
       "    <tr>\n",
       "      <th>Alabama</th>\n",
       "      <td>13.2</td>\n",
       "      <td>236</td>\n",
       "      <td>58</td>\n",
       "      <td>21.2</td>\n",
       "    </tr>\n",
       "    <tr>\n",
       "      <th>Alaska</th>\n",
       "      <td>10.0</td>\n",
       "      <td>263</td>\n",
       "      <td>48</td>\n",
       "      <td>44.5</td>\n",
       "    </tr>\n",
       "    <tr>\n",
       "      <th>Arizona</th>\n",
       "      <td>8.1</td>\n",
       "      <td>294</td>\n",
       "      <td>80</td>\n",
       "      <td>31.0</td>\n",
       "    </tr>\n",
       "    <tr>\n",
       "      <th>Arkansas</th>\n",
       "      <td>8.8</td>\n",
       "      <td>190</td>\n",
       "      <td>50</td>\n",
       "      <td>19.5</td>\n",
       "    </tr>\n",
       "    <tr>\n",
       "      <th>California</th>\n",
       "      <td>9.0</td>\n",
       "      <td>276</td>\n",
       "      <td>91</td>\n",
       "      <td>40.6</td>\n",
       "    </tr>\n",
       "  </tbody>\n",
       "</table>\n",
       "</div>"
      ],
      "text/plain": [
       "            Murder  Assault  UrbanPop  Rape\n",
       "Alabama       13.2      236        58  21.2\n",
       "Alaska        10.0      263        48  44.5\n",
       "Arizona        8.1      294        80  31.0\n",
       "Arkansas       8.8      190        50  19.5\n",
       "California     9.0      276        91  40.6"
      ]
     },
     "execution_count": 2,
     "metadata": {},
     "output_type": "execute_result"
    }
   ],
   "source": [
    "# Load data\n",
    "df_arrests = pd.read_csv('USArrests.csv', index_col=0)\n",
    "df_arrests.head()"
   ]
  },
  {
   "cell_type": "markdown",
   "id": "d4dfc46e-8bea-44ec-ac63-f46013381daf",
   "metadata": {},
   "source": [
    "### Data Cleaning and Preprocessing\n",
    "\n"
   ]
  },
  {
   "cell_type": "code",
   "execution_count": 30,
   "id": "6a3d3c49-cacf-4f48-b3ed-0b5f2d5cb9e1",
   "metadata": {},
   "outputs": [
    {
     "data": {
      "text/plain": [
       "(50, 4)"
      ]
     },
     "execution_count": 30,
     "metadata": {},
     "output_type": "execute_result"
    }
   ],
   "source": [
    "df_arrests.shape"
   ]
  },
  {
   "cell_type": "markdown",
   "id": "624f5dba-769f-4050-848d-d82b6669ccdf",
   "metadata": {},
   "source": [
    "##### Get the statistical summary of the data set"
   ]
  },
  {
   "cell_type": "code",
   "execution_count": 5,
   "id": "c1601b57-1816-4a3e-8bb9-43e4acf36672",
   "metadata": {},
   "outputs": [
    {
     "data": {
      "text/html": [
       "<div>\n",
       "<style scoped>\n",
       "    .dataframe tbody tr th:only-of-type {\n",
       "        vertical-align: middle;\n",
       "    }\n",
       "\n",
       "    .dataframe tbody tr th {\n",
       "        vertical-align: top;\n",
       "    }\n",
       "\n",
       "    .dataframe thead th {\n",
       "        text-align: right;\n",
       "    }\n",
       "</style>\n",
       "<table border=\"1\" class=\"dataframe\">\n",
       "  <thead>\n",
       "    <tr style=\"text-align: right;\">\n",
       "      <th></th>\n",
       "      <th>mean</th>\n",
       "      <th>std</th>\n",
       "      <th>min</th>\n",
       "      <th>max</th>\n",
       "    </tr>\n",
       "  </thead>\n",
       "  <tbody>\n",
       "    <tr>\n",
       "      <th>Murder</th>\n",
       "      <td>7.79</td>\n",
       "      <td>4.36</td>\n",
       "      <td>0.80</td>\n",
       "      <td>17.40</td>\n",
       "    </tr>\n",
       "    <tr>\n",
       "      <th>Assault</th>\n",
       "      <td>170.76</td>\n",
       "      <td>83.34</td>\n",
       "      <td>45.00</td>\n",
       "      <td>337.00</td>\n",
       "    </tr>\n",
       "    <tr>\n",
       "      <th>UrbanPop</th>\n",
       "      <td>65.54</td>\n",
       "      <td>14.47</td>\n",
       "      <td>32.00</td>\n",
       "      <td>91.00</td>\n",
       "    </tr>\n",
       "    <tr>\n",
       "      <th>Rape</th>\n",
       "      <td>21.23</td>\n",
       "      <td>9.37</td>\n",
       "      <td>7.30</td>\n",
       "      <td>46.00</td>\n",
       "    </tr>\n",
       "  </tbody>\n",
       "</table>\n",
       "</div>"
      ],
      "text/plain": [
       "           mean   std   min    max\n",
       "Murder     7.79  4.36  0.80  17.40\n",
       "Assault  170.76 83.34 45.00 337.00\n",
       "UrbanPop  65.54 14.47 32.00  91.00\n",
       "Rape      21.23  9.37  7.30  46.00"
      ]
     },
     "execution_count": 5,
     "metadata": {},
     "output_type": "execute_result"
    }
   ],
   "source": [
    "#To set the decimal precision:\n",
    "pd.set_option('display.float_format', lambda x: '%.2f' % x) \n",
    "\n",
    "#The describe function give us insight into the statistical properties of the columns\n",
    "stats = df_arrests.describe()\n",
    "selected_stats = stats.loc[[\"mean\",\"std\",\"min\",\"max\"]].transpose() #select relevant rows\n",
    "selected_stats"
   ]
  },
  {
   "cell_type": "markdown",
   "id": "150a2fe8-cdab-48fb-989b-961d1f2fe8ec",
   "metadata": {},
   "source": [
    "##### Determine if any missing values are present in the data"
   ]
  },
  {
   "cell_type": "code",
   "execution_count": 6,
   "id": "62bcb416-f986-44fe-938a-26a872d501bf",
   "metadata": {
    "tags": []
   },
   "outputs": [
    {
     "data": {
      "text/html": [
       "<div>\n",
       "<style scoped>\n",
       "    .dataframe tbody tr th:only-of-type {\n",
       "        vertical-align: middle;\n",
       "    }\n",
       "\n",
       "    .dataframe tbody tr th {\n",
       "        vertical-align: top;\n",
       "    }\n",
       "\n",
       "    .dataframe thead th {\n",
       "        text-align: right;\n",
       "    }\n",
       "</style>\n",
       "<table border=\"1\" class=\"dataframe\">\n",
       "  <thead>\n",
       "    <tr style=\"text-align: right;\">\n",
       "      <th></th>\n",
       "      <th>missing</th>\n",
       "    </tr>\n",
       "  </thead>\n",
       "  <tbody>\n",
       "    <tr>\n",
       "      <th>Murder</th>\n",
       "      <td>0</td>\n",
       "    </tr>\n",
       "    <tr>\n",
       "      <th>Assault</th>\n",
       "      <td>0</td>\n",
       "    </tr>\n",
       "    <tr>\n",
       "      <th>UrbanPop</th>\n",
       "      <td>0</td>\n",
       "    </tr>\n",
       "    <tr>\n",
       "      <th>Rape</th>\n",
       "      <td>0</td>\n",
       "    </tr>\n",
       "  </tbody>\n",
       "</table>\n",
       "</div>"
      ],
      "text/plain": [
       "          missing\n",
       "Murder          0\n",
       "Assault         0\n",
       "UrbanPop        0\n",
       "Rape            0"
      ]
     },
     "execution_count": 6,
     "metadata": {},
     "output_type": "execute_result"
    }
   ],
   "source": [
    "# Count missing values\n",
    "missing = df_arrests.isnull().sum()\n",
    "relevant_missing = pd.DataFrame(missing, columns=[\"missing\"])\n",
    "relevant_missing\n"
   ]
  },
  {
   "cell_type": "code",
   "execution_count": 7,
   "id": "de617f89-9606-4237-ad0e-335e1f07fd2e",
   "metadata": {},
   "outputs": [
    {
     "data": {
      "image/png": "[encoded data removed]",
      "text/plain": [
       "<Figure size 720x360 with 3 Axes>"
      ]
     },
     "metadata": {
      "needs_background": "light"
     },
     "output_type": "display_data"
    }
   ],
   "source": [
    "# missingno bar plot\n",
    "msno.bar(df_arrests, figsize=(10,5), color='grey')\n",
    "plt.show()"
   ]
  },
  {
   "cell_type": "markdown",
   "id": "8425c05f-affe-4c89-9e49-7f283267a284",
   "metadata": {},
   "source": [
    "As shown in the table above we have zero missing columns in our data set, which is good"
   ]
  },
  {
   "cell_type": "code",
   "execution_count": 8,
   "id": "0af354c1-1c9b-4ceb-b162-0927b2b90d60",
   "metadata": {},
   "outputs": [
    {
     "data": {
      "text/html": [
       "<div>\n",
       "<style scoped>\n",
       "    .dataframe tbody tr th:only-of-type {\n",
       "        vertical-align: middle;\n",
       "    }\n",
       "\n",
       "    .dataframe tbody tr th {\n",
       "        vertical-align: top;\n",
       "    }\n",
       "\n",
       "    .dataframe thead th {\n",
       "        text-align: right;\n",
       "    }\n",
       "</style>\n",
       "<table border=\"1\" class=\"dataframe\">\n",
       "  <thead>\n",
       "    <tr style=\"text-align: right;\">\n",
       "      <th></th>\n",
       "      <th>Murder</th>\n",
       "      <th>Assault</th>\n",
       "      <th>UrbanPop</th>\n",
       "      <th>Rape</th>\n",
       "    </tr>\n",
       "  </thead>\n",
       "  <tbody>\n",
       "    <tr>\n",
       "      <th>count</th>\n",
       "      <td>50.00</td>\n",
       "      <td>50.00</td>\n",
       "      <td>50.00</td>\n",
       "      <td>50.00</td>\n",
       "    </tr>\n",
       "    <tr>\n",
       "      <th>mean</th>\n",
       "      <td>7.79</td>\n",
       "      <td>170.76</td>\n",
       "      <td>65.54</td>\n",
       "      <td>21.23</td>\n",
       "    </tr>\n",
       "    <tr>\n",
       "      <th>std</th>\n",
       "      <td>4.36</td>\n",
       "      <td>83.34</td>\n",
       "      <td>14.47</td>\n",
       "      <td>9.37</td>\n",
       "    </tr>\n",
       "    <tr>\n",
       "      <th>min</th>\n",
       "      <td>0.80</td>\n",
       "      <td>45.00</td>\n",
       "      <td>32.00</td>\n",
       "      <td>7.30</td>\n",
       "    </tr>\n",
       "    <tr>\n",
       "      <th>25%</th>\n",
       "      <td>4.08</td>\n",
       "      <td>109.00</td>\n",
       "      <td>54.50</td>\n",
       "      <td>15.07</td>\n",
       "    </tr>\n",
       "    <tr>\n",
       "      <th>50%</th>\n",
       "      <td>7.25</td>\n",
       "      <td>159.00</td>\n",
       "      <td>66.00</td>\n",
       "      <td>20.10</td>\n",
       "    </tr>\n",
       "    <tr>\n",
       "      <th>75%</th>\n",
       "      <td>11.25</td>\n",
       "      <td>249.00</td>\n",
       "      <td>77.75</td>\n",
       "      <td>26.18</td>\n",
       "    </tr>\n",
       "    <tr>\n",
       "      <th>max</th>\n",
       "      <td>17.40</td>\n",
       "      <td>337.00</td>\n",
       "      <td>91.00</td>\n",
       "      <td>46.00</td>\n",
       "    </tr>\n",
       "  </tbody>\n",
       "</table>\n",
       "</div>"
      ],
      "text/plain": [
       "       Murder  Assault  UrbanPop  Rape\n",
       "count   50.00    50.00     50.00 50.00\n",
       "mean     7.79   170.76     65.54 21.23\n",
       "std      4.36    83.34     14.47  9.37\n",
       "min      0.80    45.00     32.00  7.30\n",
       "25%      4.08   109.00     54.50 15.07\n",
       "50%      7.25   159.00     66.00 20.10\n",
       "75%     11.25   249.00     77.75 26.18\n",
       "max     17.40   337.00     91.00 46.00"
      ]
     },
     "execution_count": 8,
     "metadata": {},
     "output_type": "execute_result"
    }
   ],
   "source": [
    "df_arrests.describe()"
   ]
  },
  {
   "cell_type": "markdown",
   "id": "ede17c0e-c2df-4a20-a390-5a1591d4042f",
   "metadata": {},
   "source": [
    "We have a data set of 4 columns with 50 rows"
   ]
  },
  {
   "cell_type": "code",
   "execution_count": 9,
   "id": "a7ee8042-28ae-4336-af23-1e6cb29dc90e",
   "metadata": {},
   "outputs": [
    {
     "name": "stdout",
     "output_type": "stream",
     "text": [
      "<class 'pandas.core.frame.DataFrame'>\n",
      "Index: 50 entries, Alabama to Wyoming\n",
      "Data columns (total 4 columns):\n",
      " #   Column    Non-Null Count  Dtype  \n",
      "---  ------    --------------  -----  \n",
      " 0   Murder    50 non-null     float64\n",
      " 1   Assault   50 non-null     int64  \n",
      " 2   UrbanPop  50 non-null     int64  \n",
      " 3   Rape      50 non-null     float64\n",
      "dtypes: float64(2), int64(2)\n",
      "memory usage: 2.0+ KB\n"
     ]
    }
   ],
   "source": [
    "df_arrests.info()"
   ]
  },
  {
   "cell_type": "markdown",
   "id": "f6bc297e-a7cd-45d2-b5ec-8ee743d1a980",
   "metadata": {},
   "source": [
    "We have no missing values in the data set and we have 2 'integer' columns and 2 'float' columns"
   ]
  },
  {
   "cell_type": "code",
   "execution_count": 10,
   "id": "00e72689-ab81-4703-a691-5927f748e2c2",
   "metadata": {},
   "outputs": [
    {
     "data": {
      "text/plain": [
       "Murder      0\n",
       "Assault     0\n",
       "UrbanPop    0\n",
       "Rape        0\n",
       "dtype: int64"
      ]
     },
     "execution_count": 10,
     "metadata": {},
     "output_type": "execute_result"
    }
   ],
   "source": [
    "df_arrests.isnull().sum()"
   ]
  },
  {
   "cell_type": "markdown",
   "id": "b95410e5-20ed-4192-a4f0-8970b3070b73",
   "metadata": {},
   "source": [
    "We have no zero values in our data set. Thus there will be no need for 'imputation'."
   ]
  },
  {
   "cell_type": "markdown",
   "id": "79eca7be-ccd4-4dc3-9a6b-a46abc1ca845",
   "metadata": {},
   "source": [
    "#### Histograms depicting our Columns:"
   ]
  },
  {
   "cell_type": "code",
   "execution_count": 11,
   "id": "41c14cc7-890c-4e31-912e-d3c2775ff7d0",
   "metadata": {},
   "outputs": [
    {
     "data": {
      "image/png": "[encoded data removed]",
      "text/plain": [
       "<Figure size 1080x720 with 4 Axes>"
      ]
     },
     "metadata": {
      "needs_background": "light"
     },
     "output_type": "display_data"
    }
   ],
   "source": [
    "# Plot histograms\n",
    "histograms = df_arrests.hist(color='blue', grid=True, figsize=(15, 10), legend=True) \n",
    "plt.tight_layout()\n",
    "plt.show()\n"
   ]
  },
  {
   "cell_type": "markdown",
   "id": "3e350cf0-a1fc-44a4-b095-98574066223a",
   "metadata": {},
   "source": [
    "In the above histograms we can see that Murder and Assault is skewed to the left where as UrbanPop and Rape are more skewed to the right."
   ]
  },
  {
   "cell_type": "markdown",
   "id": "8d49a1af-d407-4b1a-9689-e8c19acd0e7e",
   "metadata": {},
   "source": [
    "#### Correlation Matrix"
   ]
  },
  {
   "cell_type": "code",
   "execution_count": 12,
   "id": "e441ab08-b1c1-467d-8ece-dc3872eb7fa9",
   "metadata": {},
   "outputs": [],
   "source": [
    "states = df_arrests.index\n",
    "corr_df = df_arrests.corr()\n",
    "labels =df_arrests.columns\n",
    "\n",
    "correlations = corr_df.corr()"
   ]
  },
  {
   "cell_type": "code",
   "execution_count": 13,
   "id": "b2cca318-4620-4ee3-a9b8-fc9f203c6e1a",
   "metadata": {},
   "outputs": [
    {
     "data": {
      "text/plain": [
       "<AxesSubplot:>"
      ]
     },
     "execution_count": 13,
     "metadata": {},
     "output_type": "execute_result"
    },
    {
     "data": {
      "image/png": "[encoded data removed]",
      "text/plain": [
       "<Figure size 432x288 with 2 Axes>"
      ]
     },
     "metadata": {
      "needs_background": "light"
     },
     "output_type": "display_data"
    }
   ],
   "source": [
    "import seaborn as sns\n",
    "sns.heatmap(corr_df, cmap=\"coolwarm\")\n"
   ]
  },
  {
   "cell_type": "markdown",
   "id": "41e83772-5222-4d52-9cd9-f672b989e12c",
   "metadata": {},
   "source": [
    "In the above correlation matrix the Murder and Assault and Rape have very strong positive correlation and then Murder, Assault and Urban population.\n"
   ]
  },
  {
   "cell_type": "code",
   "execution_count": 14,
   "id": "b90563b7-34de-4f2c-a240-f1036dda45c6",
   "metadata": {},
   "outputs": [
    {
     "data": {
      "text/plain": [
       "<AxesSubplot:>"
      ]
     },
     "execution_count": 14,
     "metadata": {},
     "output_type": "execute_result"
    },
    {
     "data": {
      "image/png": "[encoded data removed]",
      "text/plain": [
       "<Figure size 432x288 with 1 Axes>"
      ]
     },
     "metadata": {
      "needs_background": "light"
     },
     "output_type": "display_data"
    }
   ],
   "source": [
    "# Plotting the data\n",
    "sns.barplot(data=df_arrests)\n"
   ]
  },
  {
   "cell_type": "markdown",
   "id": "d6ac67fe-1c92-440b-818d-0840b47b7e7b",
   "metadata": {},
   "source": [
    "## PCA\n",
    "\n",
    "Principal Components Analysis (PCA) is a method for finding the underlying variables (i.e. principal components) that best differentiate the observations by determining the directions along which your data points are most spread out. Since the determination of the principal components is based on finding the direction that maximises the variance, variables with variance that are much higher than the other variables tend to dominate the analysis purely due to their scale. PCA is a dimensionality reduction techinque which is useful when we have a lot of variables, and need to reduce these. \n",
    "\n"
   ]
  },
  {
   "cell_type": "code",
   "execution_count": 44,
   "id": "f53e8ef2-8df1-491b-9c42-38ea0f5fe182",
   "metadata": {},
   "outputs": [],
   "source": [
    "X = df_arrests.iloc[:, 0:4]"
   ]
  },
  {
   "cell_type": "code",
   "execution_count": null,
   "id": "cc1a8b78-c9e8-4d54-a02d-839bf3088386",
   "metadata": {},
   "outputs": [],
   "source": []
  },
  {
   "cell_type": "code",
   "execution_count": 54,
   "id": "2f0b6623-ef72-43d1-bce7-1c1ae19695df",
   "metadata": {},
   "outputs": [
    {
     "data": {
      "text/html": [
       "<div>\n",
       "<style scoped>\n",
       "    .dataframe tbody tr th:only-of-type {\n",
       "        vertical-align: middle;\n",
       "    }\n",
       "\n",
       "    .dataframe tbody tr th {\n",
       "        vertical-align: top;\n",
       "    }\n",
       "\n",
       "    .dataframe thead th {\n",
       "        text-align: right;\n",
       "    }\n",
       "</style>\n",
       "<table border=\"1\" class=\"dataframe\">\n",
       "  <thead>\n",
       "    <tr style=\"text-align: right;\">\n",
       "      <th></th>\n",
       "      <th>0</th>\n",
       "      <th>1</th>\n",
       "      <th>2</th>\n",
       "      <th>3</th>\n",
       "    </tr>\n",
       "  </thead>\n",
       "  <tbody>\n",
       "    <tr>\n",
       "      <th>0</th>\n",
       "      <td>64.802</td>\n",
       "      <td>11.448</td>\n",
       "      <td>-2.495</td>\n",
       "      <td>2.408</td>\n",
       "    </tr>\n",
       "    <tr>\n",
       "      <th>1</th>\n",
       "      <td>92.827</td>\n",
       "      <td>17.983</td>\n",
       "      <td>20.127</td>\n",
       "      <td>-4.094</td>\n",
       "    </tr>\n",
       "    <tr>\n",
       "      <th>2</th>\n",
       "      <td>124.068</td>\n",
       "      <td>-8.830</td>\n",
       "      <td>-1.687</td>\n",
       "      <td>-4.354</td>\n",
       "    </tr>\n",
       "    <tr>\n",
       "      <th>3</th>\n",
       "      <td>18.340</td>\n",
       "      <td>16.704</td>\n",
       "      <td>0.210</td>\n",
       "      <td>-0.521</td>\n",
       "    </tr>\n",
       "    <tr>\n",
       "      <th>4</th>\n",
       "      <td>107.423</td>\n",
       "      <td>-22.520</td>\n",
       "      <td>6.746</td>\n",
       "      <td>-2.812</td>\n",
       "    </tr>\n",
       "  </tbody>\n",
       "</table>\n",
       "</div>"
      ],
      "text/plain": [
       "        0       1      2      3\n",
       "0  64.802  11.448 -2.495  2.408\n",
       "1  92.827  17.983 20.127 -4.094\n",
       "2 124.068  -8.830 -1.687 -4.354\n",
       "3  18.340  16.704  0.210 -0.521\n",
       "4 107.423 -22.520  6.746 -2.812"
      ]
     },
     "execution_count": 54,
     "metadata": {},
     "output_type": "execute_result"
    }
   ],
   "source": [
    "from sklearn.decomposition import PCA \n",
    "\n",
    "np.set_printoptions(precision=2)\n",
    "\n",
    "pca = PCA()\n",
    "\n",
    "X_trans = pca.fit_transform(X)\n",
    "\n",
    "df_pca = pd.DataFrame(X_trans)\n",
    "df_pca.head()"
   ]
  },
  {
   "cell_type": "code",
   "execution_count": 55,
   "id": "3beb0349-76b1-44c7-b6d8-c8655afa5bbb",
   "metadata": {},
   "outputs": [
    {
     "data": {
      "text/plain": [
       "array([9.66e-01, 2.78e-02, 5.80e-03, 8.49e-04])"
      ]
     },
     "execution_count": 55,
     "metadata": {},
     "output_type": "execute_result"
    }
   ],
   "source": [
    "(pca.explained_variance_ratio_)"
   ]
  },
  {
   "cell_type": "code",
   "execution_count": 56,
   "id": "a8cd4587-004a-4414-b3e5-1be2767e2a79",
   "metadata": {},
   "outputs": [
    {
     "name": "stdout",
     "output_type": "stream",
     "text": [
      "Standard deviation: [83.73 14.21  6.49  2.48]\n"
     ]
    }
   ],
   "source": [
    "std = df_pca.describe().transpose()[\"std\"]\n",
    "print(f\"Standard deviation: {std.values}\")"
   ]
  },
  {
   "cell_type": "code",
   "execution_count": 57,
   "id": "bddf5281-1a77-47e0-af12-5fe4474f8332",
   "metadata": {},
   "outputs": [
    {
     "name": "stdout",
     "output_type": "stream",
     "text": [
      "Proportion of Variance Explained: [9.66e-01 2.78e-02 5.80e-03 8.49e-04]\n"
     ]
    }
   ],
   "source": [
    "print(f\"Proportion of Variance Explained: {pca.explained_variance_ratio_}\")"
   ]
  },
  {
   "cell_type": "code",
   "execution_count": 58,
   "id": "25408f42-cad2-4d8d-8324-7414070d85ce",
   "metadata": {},
   "outputs": [
    {
     "name": "stdout",
     "output_type": "stream",
     "text": [
      "Cumulative Proportion: [7011.11 7213.11 7255.22 7261.38]\n"
     ]
    }
   ],
   "source": [
    "print(f\"Cumulative Proportion: {np.cumsum(pca.explained_variance_)}\")"
   ]
  },
  {
   "cell_type": "code",
   "execution_count": 59,
   "id": "010f5c8c-d1f2-46e1-bfc8-eb49e9f2bb94",
   "metadata": {},
   "outputs": [
    {
     "name": "stdout",
     "output_type": "stream",
     "text": [
      "[[0.04 1.   0.05 0.08]\n",
      " [0.04 0.06 0.98 0.2 ]\n",
      " [0.08 0.07 0.2  0.97]\n",
      " [0.99 0.04 0.06 0.07]]\n"
     ]
    }
   ],
   "source": [
    "print(abs( pca.components_ ))"
   ]
  },
  {
   "cell_type": "markdown",
   "id": "357a2d57-69ba-4d40-860a-30b05489a37a",
   "metadata": {},
   "source": [
    "By Printing out the components we can see from all the columns basically its only variables 'Murder' and 'Assault' that explains most of our data and are most important "
   ]
  },
  {
   "cell_type": "markdown",
   "id": "0e1b4af2-bcad-42e6-8a03-eab8f1c0c783",
   "metadata": {},
   "source": [
    "### Standardise the Data"
   ]
  },
  {
   "cell_type": "code",
   "execution_count": 61,
   "id": "10c4c8f6-cce9-4593-9e02-67ff3954916f",
   "metadata": {},
   "outputs": [
    {
     "data": {
      "text/html": [
       "<div>\n",
       "<style scoped>\n",
       "    .dataframe tbody tr th:only-of-type {\n",
       "        vertical-align: middle;\n",
       "    }\n",
       "\n",
       "    .dataframe tbody tr th {\n",
       "        vertical-align: top;\n",
       "    }\n",
       "\n",
       "    .dataframe thead th {\n",
       "        text-align: right;\n",
       "    }\n",
       "</style>\n",
       "<table border=\"1\" class=\"dataframe\">\n",
       "  <thead>\n",
       "    <tr style=\"text-align: right;\">\n",
       "      <th></th>\n",
       "      <th>0</th>\n",
       "      <th>1</th>\n",
       "      <th>2</th>\n",
       "      <th>3</th>\n",
       "    </tr>\n",
       "  </thead>\n",
       "  <tbody>\n",
       "    <tr>\n",
       "      <th>0</th>\n",
       "      <td>0.986</td>\n",
       "      <td>1.133</td>\n",
       "      <td>-0.444</td>\n",
       "      <td>0.156</td>\n",
       "    </tr>\n",
       "    <tr>\n",
       "      <th>1</th>\n",
       "      <td>1.950</td>\n",
       "      <td>1.073</td>\n",
       "      <td>2.040</td>\n",
       "      <td>-0.439</td>\n",
       "    </tr>\n",
       "    <tr>\n",
       "      <th>2</th>\n",
       "      <td>1.763</td>\n",
       "      <td>-0.746</td>\n",
       "      <td>0.055</td>\n",
       "      <td>-0.835</td>\n",
       "    </tr>\n",
       "    <tr>\n",
       "      <th>3</th>\n",
       "      <td>-0.141</td>\n",
       "      <td>1.120</td>\n",
       "      <td>0.115</td>\n",
       "      <td>-0.183</td>\n",
       "    </tr>\n",
       "    <tr>\n",
       "      <th>4</th>\n",
       "      <td>2.524</td>\n",
       "      <td>-1.543</td>\n",
       "      <td>0.599</td>\n",
       "      <td>-0.342</td>\n",
       "    </tr>\n",
       "  </tbody>\n",
       "</table>\n",
       "</div>"
      ],
      "text/plain": [
       "       0      1      2      3\n",
       "0  0.986  1.133 -0.444  0.156\n",
       "1  1.950  1.073  2.040 -0.439\n",
       "2  1.763 -0.746  0.055 -0.835\n",
       "3 -0.141  1.120  0.115 -0.183\n",
       "4  2.524 -1.543  0.599 -0.342"
      ]
     },
     "execution_count": 61,
     "metadata": {},
     "output_type": "execute_result"
    }
   ],
   "source": [
    "from sklearn.preprocessing import StandardScaler\n",
    "X_std = StandardScaler().fit_transform(X)\n",
    "\n",
    "std_pca = PCA()\n",
    "X_std_trans = std_pca.fit_transform(X_std)\n",
    "\n",
    "df_std_pca = pd.DataFrame(X_std_trans)\n",
    "df_std_pca.head()"
   ]
  },
  {
   "cell_type": "markdown",
   "id": "1ce380a7-a543-46de-9c8f-41f06115cf12",
   "metadata": {},
   "source": [
    "### Feature Importance"
   ]
  },
  {
   "cell_type": "code",
   "execution_count": 62,
   "id": "a9b52854-3189-47fd-ae9d-a1628c191dba",
   "metadata": {},
   "outputs": [],
   "source": [
    "def biplot(score,coeff,labels=None,points=None):\n",
    "    xs = score[:,0]\n",
    "    ys = score[:,1]\n",
    "    n = coeff.shape[0]\n",
    "    scalex = 1.0/(xs.max() - xs.min())\n",
    "    scaley = 1.0/(ys.max() - ys.min())\n",
    "\n",
    "    fig, ax = plt.subplots()    \n",
    "\n",
    "    ax.scatter(xs * scalex,ys * scaley,s=5)\n",
    "\n",
    "    for i in range(0,len(xs)):\n",
    "        txt = states[i]\n",
    "        ax.annotate(txt, (xs[i]* scalex, ys[i]* scaley))\n",
    "\n",
    "    for i in range(n):\n",
    "        ax.arrow(0, 0, coeff[i,0], coeff[i,1],color = 'r',alpha = 0.5)\n",
    "        if labels is None:\n",
    "            ax.text(coeff[i,0]* 1.15, coeff[i,1] * 1.15, \"Var\"+str(i+1), color = 'green', ha = 'center', va = 'center')\n",
    "        else:\n",
    "            ax.text(coeff[i,0]* 1.15, coeff[i,1] * 1.15, labels[i], color = 'g', ha = 'center', va = 'center')\n",
    " \n",
    "    plt.xlabel(\"PC1\")\n",
    "    plt.ylabel(\"PC2\")\n",
    "    plt.grid()\n",
    "\n",
    "    # Adapted from: https://ostwalprasad.github.io/machine-learning/PCA-using-python.html"
   ]
  },
  {
   "cell_type": "code",
   "execution_count": 63,
   "id": "fba98a59-753e-4252-9b5f-8c4181a5eff8",
   "metadata": {},
   "outputs": [
    {
     "data": {
      "image/png": "[encoded data removed]",
      "text/plain": [
       "<Figure size 432x288 with 1 Axes>"
      ]
     },
     "metadata": {
      "needs_background": "light"
     },
     "output_type": "display_data"
    }
   ],
   "source": [
    "biplot(X_std_trans[:,0:2],np.transpose(std_pca.components_[0:2, :]),list(labels))\n",
    "plt.show()"
   ]
  },
  {
   "cell_type": "markdown",
   "id": "fb68c04a-eefb-4ebb-9538-d4f08baf1fbf",
   "metadata": {},
   "source": [
    "### The Most Important features explaining 90% of the Data"
   ]
  },
  {
   "cell_type": "code",
   "execution_count": 64,
   "id": "306ab3a1-5c55-4afe-94f2-167eb73253b7",
   "metadata": {},
   "outputs": [
    {
     "data": {
      "text/html": [
       "<div>\n",
       "<style scoped>\n",
       "    .dataframe tbody tr th:only-of-type {\n",
       "        vertical-align: middle;\n",
       "    }\n",
       "\n",
       "    .dataframe tbody tr th {\n",
       "        vertical-align: top;\n",
       "    }\n",
       "\n",
       "    .dataframe thead th {\n",
       "        text-align: right;\n",
       "    }\n",
       "</style>\n",
       "<table border=\"1\" class=\"dataframe\">\n",
       "  <thead>\n",
       "    <tr style=\"text-align: right;\">\n",
       "      <th></th>\n",
       "      <th>0</th>\n",
       "      <th>1</th>\n",
       "    </tr>\n",
       "  </thead>\n",
       "  <tbody>\n",
       "    <tr>\n",
       "      <th>0</th>\n",
       "      <td>PC0</td>\n",
       "      <td>Murder</td>\n",
       "    </tr>\n",
       "    <tr>\n",
       "      <th>1</th>\n",
       "      <td>PC1</td>\n",
       "      <td>Assault</td>\n",
       "    </tr>\n",
       "  </tbody>\n",
       "</table>\n",
       "</div>"
      ],
      "text/plain": [
       "     0        1\n",
       "0  PC0   Murder\n",
       "1  PC1  Assault"
      ]
     },
     "execution_count": 64,
     "metadata": {},
     "output_type": "execute_result"
    }
   ],
   "source": [
    "np.random.seed(0)\n",
    "\n",
    "# 20 samples with 2 features\n",
    "train_features = np.random.rand(20,2)\n",
    "\n",
    "model = PCA(n_components=2).fit(train_features)\n",
    "X_trans = model.transform(train_features)\n",
    "\n",
    "# number of components\n",
    "n_pcs= model.components_.shape[0]\n",
    "\n",
    "most_important = [np.abs(model.components_[i]).argmax() for i in range(n_pcs)]\n",
    "\n",
    "initial_feature_names = ['Murder','Assault','UrbanPop','Rape']\n",
    "# get the names\n",
    "most_important_names = [initial_feature_names[most_important[i]] for i in range(n_pcs)]\n",
    "\n",
    "# LIST COMPREHENSION HERE AGAIN\n",
    "dic = {'PC{}'.format(i): most_important_names[i] for i in range(n_pcs)}\n",
    "\n",
    "# build the dataframe\n",
    "df = pd.DataFrame(dic.items())\n",
    "df.head()"
   ]
  },
  {
   "cell_type": "markdown",
   "id": "e4b741e1-eb82-46c0-8e30-389e981e0ac3",
   "metadata": {},
   "source": [
    "Seeing above our most important components explaining our data from our PCA analysis is the feature 'Assault' followed by 'Murder'"
   ]
  },
  {
   "cell_type": "markdown",
   "id": "8b342f58-1366-4729-a8a9-953d273796ec",
   "metadata": {},
   "source": [
    "### PCA 1 and PCA 2 Importance by Feature"
   ]
  },
  {
   "cell_type": "code",
   "execution_count": 65,
   "id": "084d111b-435c-4759-af09-47b6623bb90b",
   "metadata": {},
   "outputs": [
    {
     "data": {
      "text/html": [
       "<div>\n",
       "<style scoped>\n",
       "    .dataframe tbody tr th:only-of-type {\n",
       "        vertical-align: middle;\n",
       "    }\n",
       "\n",
       "    .dataframe tbody tr th {\n",
       "        vertical-align: top;\n",
       "    }\n",
       "\n",
       "    .dataframe thead th {\n",
       "        text-align: right;\n",
       "    }\n",
       "</style>\n",
       "<table border=\"1\" class=\"dataframe\">\n",
       "  <thead>\n",
       "    <tr style=\"text-align: right;\">\n",
       "      <th></th>\n",
       "      <th>Features</th>\n",
       "      <th>PCA_1 Importance</th>\n",
       "      <th>PCA_2 Importance</th>\n",
       "    </tr>\n",
       "  </thead>\n",
       "  <tbody>\n",
       "    <tr>\n",
       "      <th>0</th>\n",
       "      <td>Murder</td>\n",
       "      <td>0.042</td>\n",
       "      <td>0.045</td>\n",
       "    </tr>\n",
       "    <tr>\n",
       "      <th>1</th>\n",
       "      <td>Assault</td>\n",
       "      <td>0.995</td>\n",
       "      <td>0.059</td>\n",
       "    </tr>\n",
       "    <tr>\n",
       "      <th>2</th>\n",
       "      <td>UrbanPop</td>\n",
       "      <td>0.046</td>\n",
       "      <td>0.977</td>\n",
       "    </tr>\n",
       "    <tr>\n",
       "      <th>3</th>\n",
       "      <td>Rape</td>\n",
       "      <td>0.075</td>\n",
       "      <td>0.201</td>\n",
       "    </tr>\n",
       "  </tbody>\n",
       "</table>\n",
       "</div>"
      ],
      "text/plain": [
       "   Features  PCA_1 Importance  PCA_2 Importance\n",
       "0    Murder             0.042             0.045\n",
       "1   Assault             0.995             0.059\n",
       "2  UrbanPop             0.046             0.977\n",
       "3      Rape             0.075             0.201"
      ]
     },
     "execution_count": 65,
     "metadata": {},
     "output_type": "execute_result"
    }
   ],
   "source": [
    "# Feature importance\n",
    "pd.set_option('display.float_format', lambda x: '%.3f' % x) #change precision to see more decimal places\n",
    "\n",
    "pc1 = abs( pca.components_[0] ) #components x features - access at index 0 to get the first component\n",
    "pc2 = abs( pca.components_[1] )\n",
    "\n",
    "feat_df = pd.DataFrame()\n",
    "feat_df[\"Features\"] = list(labels)\n",
    "feat_df[\"PCA_1 Importance\"] = pc1\n",
    "feat_df[\"PCA_2 Importance\"] = pc2\n",
    "feat_df"
   ]
  },
  {
   "cell_type": "markdown",
   "id": "f73ee317-6363-448a-bd5e-912529905906",
   "metadata": {},
   "source": [
    "In the Above table; we see the features and their respective PC1 and PC2 corresponding values. \n",
    "For PC1 'Assault' is the highest by far. For PC2 'UrbanPop' is the highest."
   ]
  },
  {
   "cell_type": "markdown",
   "id": "3dec1cb9-3f52-48b8-983a-dcf5129129bc",
   "metadata": {},
   "source": [
    "#### Graphical Depiction of Feature Importance"
   ]
  },
  {
   "cell_type": "code",
   "execution_count": 66,
   "id": "6e5be987-39cf-4192-b5e4-a14713e8c34e",
   "metadata": {},
   "outputs": [
    {
     "data": {
      "text/plain": [
       "Text(0.5, 1.0, 'Cumulative Explained Variance')"
      ]
     },
     "execution_count": 66,
     "metadata": {},
     "output_type": "execute_result"
    },
    {
     "data": {
      "image/png": "[encoded data removed]",
      "text/plain": [
       "<Figure size 432x288 with 1 Axes>"
      ]
     },
     "metadata": {
      "needs_background": "light"
     },
     "output_type": "display_data"
    }
   ],
   "source": [
    "# Cumulative variance plot\n",
    "plt.ylabel('Explained variance')\n",
    "plt.xlabel('Components')\n",
    "plt.plot(range(1,len(std_pca.explained_variance_ratio_ )+1),\n",
    "         np.cumsum(std_pca.explained_variance_ratio_),\n",
    "         c='red')\n",
    "plt.title(\"Cumulative Explained Variance\")"
   ]
  },
  {
   "cell_type": "code",
   "execution_count": 67,
   "id": "29853c9c-5496-4987-9019-e34a364c0a11",
   "metadata": {},
   "outputs": [
    {
     "data": {
      "image/png": "[encoded data removed]",
      "text/plain": [
       "<Figure size 432x288 with 1 Axes>"
      ]
     },
     "metadata": {
      "needs_background": "light"
     },
     "output_type": "display_data"
    }
   ],
   "source": [
    "# Scree plot\n",
    "plt.plot(std_pca.explained_variance_ratio_)\n",
    "plt.xlabel('number of components')\n",
    "plt.ylabel('cumulative explained variance')\n",
    "plt.title(\"Scree plot\")\n",
    "plt.show()"
   ]
  },
  {
   "cell_type": "markdown",
   "id": "9f1cb5bb-11e6-42b4-bfa6-a7df0af32939",
   "metadata": {},
   "source": [
    "The first 2 principal components together explain around 90% of the variance. We can therefore use them to perform cluster analysis. This is what we refer to as dimensionality reduction. We began with 4 variables and now we have 2 variables explaining most of the variability. "
   ]
  },
  {
   "cell_type": "code",
   "execution_count": 83,
   "id": "ac8d6317-04f3-4441-a0ff-8e708d4337b3",
   "metadata": {},
   "outputs": [
    {
     "data": {
      "text/html": [
       "<div>\n",
       "<style scoped>\n",
       "    .dataframe tbody tr th:only-of-type {\n",
       "        vertical-align: middle;\n",
       "    }\n",
       "\n",
       "    .dataframe tbody tr th {\n",
       "        vertical-align: top;\n",
       "    }\n",
       "\n",
       "    .dataframe thead th {\n",
       "        text-align: right;\n",
       "    }\n",
       "</style>\n",
       "<table border=\"1\" class=\"dataframe\">\n",
       "  <thead>\n",
       "    <tr style=\"text-align: right;\">\n",
       "      <th></th>\n",
       "      <th>0</th>\n",
       "      <th>1</th>\n",
       "    </tr>\n",
       "  </thead>\n",
       "  <tbody>\n",
       "    <tr>\n",
       "      <th>0</th>\n",
       "      <td>0.986</td>\n",
       "      <td>1.133</td>\n",
       "    </tr>\n",
       "    <tr>\n",
       "      <th>1</th>\n",
       "      <td>1.950</td>\n",
       "      <td>1.073</td>\n",
       "    </tr>\n",
       "    <tr>\n",
       "      <th>2</th>\n",
       "      <td>1.763</td>\n",
       "      <td>-0.746</td>\n",
       "    </tr>\n",
       "    <tr>\n",
       "      <th>3</th>\n",
       "      <td>-0.141</td>\n",
       "      <td>1.120</td>\n",
       "    </tr>\n",
       "    <tr>\n",
       "      <th>4</th>\n",
       "      <td>2.524</td>\n",
       "      <td>-1.543</td>\n",
       "    </tr>\n",
       "  </tbody>\n",
       "</table>\n",
       "</div>"
      ],
      "text/plain": [
       "       0      1\n",
       "0  0.986  1.133\n",
       "1  1.950  1.073\n",
       "2  1.763 -0.746\n",
       "3 -0.141  1.120\n",
       "4  2.524 -1.543"
      ]
     },
     "execution_count": 83,
     "metadata": {},
     "output_type": "execute_result"
    }
   ],
   "source": [
    "# Creating pandas dataframe from numpy array\n",
    "pca_df = pd.DataFrame({'0': df_std_pca.iloc[:, 0], '1': df_std_pca.iloc[:, 1]}, index=df_std_pca.index)\n",
    "\n",
    "pca_df.head()"
   ]
  },
  {
   "cell_type": "markdown",
   "id": "e5ad5f2e-2216-45ee-bae0-0d8e24bc2b6e",
   "metadata": {},
   "source": [
    "## Hierarchical clustering\n"
   ]
  },
  {
   "cell_type": "code",
   "execution_count": 104,
   "id": "dd10fa42-40fe-412b-b7c8-b1a419f7938a",
   "metadata": {},
   "outputs": [
    {
     "data": {
      "image/png": "[encoded data removed]",
      "text/plain": [
       "<Figure size 1440x360 with 3 Axes>"
      ]
     },
     "metadata": {
      "needs_background": "light"
     },
     "output_type": "display_data"
    }
   ],
   "source": [
    "from scipy.cluster.hierarchy import dendrogram, linkage\n",
    "from sklearn.cluster import AgglomerativeClustering\n",
    "\n",
    "model = AgglomerativeClustering(distance_threshold=0, n_clusters=None)\n",
    "model = model.fit(pca_df)\n",
    "\n",
    "fig, (ax1, ax2, ax3) = plt.subplots(1, 3, figsize=(20,5))\n",
    "fig.suptitle('Hierarchical Clustering Dendrogram', fontsize=18)\n",
    "ax1.set_title(\"Single\",fontsize=15)\n",
    "dendrogram(linkage(pca_df, method='single'), labels=pca_df.index, ax=ax1) #change method: eg. single, average, complete...\n",
    "ax2.set_title(\"Average\", fontsize=15)\n",
    "dendrogram(linkage(pca_df, method='average'), labels=pca_df.index, ax=ax2)\n",
    "ax3.set_title(\"Complete\", fontsize=15)\n",
    "dendrogram(linkage(pca_df, method='complete'), labels=pca_df.index, ax=ax3)\n",
    "\n",
    "plt.show()"
   ]
  },
  {
   "cell_type": "markdown",
   "id": "be2d4aa2-026c-4cb9-9251-0464eb52e669",
   "metadata": {},
   "source": [
    "Here we see the 3 different hierarchical Cluster dendograms. From the clusterings above it looks like the 'Complete' method is the most suitable and will be used in the calculations going forward."
   ]
  },
  {
   "cell_type": "code",
   "execution_count": 106,
   "id": "b9ad1a4a-b395-4b1d-b0a9-070299a819e7",
   "metadata": {},
   "outputs": [
    {
     "data": {
      "image/png": "[encoded data removed]",
      "text/plain": [
       "<Figure size 432x288 with 1 Axes>"
      ]
     },
     "metadata": {
      "needs_background": "light"
     },
     "output_type": "display_data"
    }
   ],
   "source": [
    "plt.title(\"Complete linkage\", fontsize=(15))\n",
    "dendrogram(linkage(pca_df, method='complete'), labels=pca_df.index)\n",
    "plt.show()"
   ]
  },
  {
   "cell_type": "markdown",
   "id": "02edcaf1-183e-43a5-bc23-db91266f1ffc",
   "metadata": {},
   "source": [
    "### K-means clustering\n",
    "\n",
    "K-means is a very popular clustering partitioning algorithm that is fast and efficient and scales well for large datasets. It is an iterative process, so observations can switch between clusters while the algorithm runs until it converges at a local optimum. This method is not robust when it comes to noise data and outliers and is not suitable for clusters with non-convex shapes. Another drawback with K-means is the necessity of specifying K in advance.\n",
    "\n",
    "For our analysis, it seems that the shape of clusters is likely to be regular based on the PCA biplot. K will be set to 3. A visualisation of the clusters is shown in the figure below.\n"
   ]
  },
  {
   "cell_type": "code",
   "execution_count": 140,
   "id": "564e730b-98e6-49db-9767-12ae781ae479",
   "metadata": {},
   "outputs": [
    {
     "data": {
      "text/plain": [
       "Text(0, 0.5, 'Dim 1')"
      ]
     },
     "execution_count": 140,
     "metadata": {},
     "output_type": "execute_result"
    },
    {
     "data": {
      "image/png": "[encoded data removed]",
      "text/plain": [
       "<Figure size 1080x720 with 1 Axes>"
      ]
     },
     "metadata": {
      "needs_background": "light"
     },
     "output_type": "display_data"
    }
   ],
   "source": [
    "from sklearn.cluster import KMeans\n",
    "\n",
    "# We extract the first two components\n",
    "x = X_std_trans[:,0]\n",
    "y = X_std_trans[:,1]\n",
    "\n",
    "# Fit k-means\n",
    "k=3\n",
    "kmeans = KMeans(n_clusters=k, init='k-means++', random_state=42)\n",
    "cluster_labels = kmeans.fit_predict(pca_df)\n",
    "cent = kmeans.cluster_centers_\n",
    "\n",
    "# Plot clusters\n",
    "fig, ax = plt.subplots(figsize=(15,10))\n",
    "colours = 'rbgy'\n",
    "for i in range(0,k):\n",
    "    ax.scatter(x[cluster_labels == i],y[cluster_labels == i],c = colours[i]) \n",
    "\n",
    "for i in range(0,len(x)):\n",
    "        txt = states[i]\n",
    "        ax.annotate(txt, (x[i], y[i]))\n",
    "ax.set_title(\"K-Means cluster plot\", fontsize=(15))\n",
    "ax.set_xlabel(\"Dim 2\")\n",
    "ax.set_ylabel(\"Dim 1\")\n"
   ]
  },
  {
   "cell_type": "code",
   "execution_count": 167,
   "id": "20a22f4e-c77c-4d95-8190-ad449b748f78",
   "metadata": {},
   "outputs": [
    {
     "data": {
      "text/html": [
       "<div>\n",
       "<style scoped>\n",
       "    .dataframe tbody tr th:only-of-type {\n",
       "        vertical-align: middle;\n",
       "    }\n",
       "\n",
       "    .dataframe tbody tr th {\n",
       "        vertical-align: top;\n",
       "    }\n",
       "\n",
       "    .dataframe thead th {\n",
       "        text-align: right;\n",
       "    }\n",
       "</style>\n",
       "<table border=\"1\" class=\"dataframe\">\n",
       "  <thead>\n",
       "    <tr style=\"text-align: right;\">\n",
       "      <th></th>\n",
       "      <th>Murder</th>\n",
       "      <th>Assault</th>\n",
       "      <th>UrbanPop</th>\n",
       "      <th>Rape</th>\n",
       "      <th>Clusters</th>\n",
       "    </tr>\n",
       "  </thead>\n",
       "  <tbody>\n",
       "    <tr>\n",
       "      <th>Alabama</th>\n",
       "      <td>13.200</td>\n",
       "      <td>236</td>\n",
       "      <td>58</td>\n",
       "      <td>21.200</td>\n",
       "      <td>1</td>\n",
       "    </tr>\n",
       "    <tr>\n",
       "      <th>Alaska</th>\n",
       "      <td>10.000</td>\n",
       "      <td>263</td>\n",
       "      <td>48</td>\n",
       "      <td>44.500</td>\n",
       "      <td>1</td>\n",
       "    </tr>\n",
       "    <tr>\n",
       "      <th>Arizona</th>\n",
       "      <td>8.100</td>\n",
       "      <td>294</td>\n",
       "      <td>80</td>\n",
       "      <td>31.000</td>\n",
       "      <td>1</td>\n",
       "    </tr>\n",
       "    <tr>\n",
       "      <th>Arkansas</th>\n",
       "      <td>8.800</td>\n",
       "      <td>190</td>\n",
       "      <td>50</td>\n",
       "      <td>19.500</td>\n",
       "      <td>0</td>\n",
       "    </tr>\n",
       "    <tr>\n",
       "      <th>California</th>\n",
       "      <td>9.000</td>\n",
       "      <td>276</td>\n",
       "      <td>91</td>\n",
       "      <td>40.600</td>\n",
       "      <td>1</td>\n",
       "    </tr>\n",
       "  </tbody>\n",
       "</table>\n",
       "</div>"
      ],
      "text/plain": [
       "            Murder  Assault  UrbanPop   Rape  Clusters\n",
       "Alabama     13.200      236        58 21.200         1\n",
       "Alaska      10.000      263        48 44.500         1\n",
       "Arizona      8.100      294        80 31.000         1\n",
       "Arkansas     8.800      190        50 19.500         0\n",
       "California   9.000      276        91 40.600         1"
      ]
     },
     "execution_count": 167,
     "metadata": {},
     "output_type": "execute_result"
    }
   ],
   "source": [
    "# Adding the Clusters to the dataframe\n",
    "cluster_labels = kmeans.fit_predict(pca_df)\n",
    "df = pd.DataFrame(cluster_labels, index=states)\n",
    "df_arrests['Clusters'] = cluster_labels    \n",
    "df_arrests.head()\n"
   ]
  },
  {
   "cell_type": "code",
   "execution_count": null,
   "id": "8cd70c48-d442-4d3a-8b8c-a5492a84498e",
   "metadata": {},
   "outputs": [],
   "source": []
  },
  {
   "cell_type": "markdown",
   "id": "d514ec37-b90f-4843-af2d-88460090f8a8",
   "metadata": {},
   "source": [
    "## REFERENCES\n"
   ]
  },
  {
   "cell_type": "markdown",
   "id": "d8c40f68-bf1a-4335-8d23-75063ea6b8c0",
   "metadata": {},
   "source": [
    "1. https://scikit-learn.org/stable/auto_examples/decomposition/plot_pca_iris.html\n",
    "2. https://www.kaggle.com/code/shrutimechlearn/step-by-step-pca-with-iris-dataset\n",
    "3. https://www.kaggle.com/code/abhishekkrg/python-iris-data-visualization-and-explanation\n",
    "4. https://medium.com/swlh/an-intuitive-approach-to-pca-fc4d05c14c19\n",
    "5. https://machinelearningmastery.com/principal-component-analysis-for-visualization/\n",
    "6. https://www.datacamp.com/tutorial/principal-component-analysis-in-python\n"
   ]
  },
  {
   "cell_type": "code",
   "execution_count": null,
   "id": "f40f1215-3bd3-47fe-a27f-f847bc4f023b",
   "metadata": {},
   "outputs": [],
   "source": []
  }
 ],
 "metadata": {
  "kernelspec": {
   "display_name": "Python 3 (ipykernel)",
   "language": "python",
   "name": "python3"
  },
  "language_info": {
   "codemirror_mode": {
    "name": "ipython",
    "version": 3
   },
   "file_extension": ".py",
   "mimetype": "text/x-python",
   "name": "python",
   "nbconvert_exporter": "python",
   "pygments_lexer": "ipython3",
   "version": "3.8.8rc1"
  }
 },
 "nbformat": 4,
 "nbformat_minor": 5
}
